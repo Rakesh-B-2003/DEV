{
  "nbformat": 4,
  "nbformat_minor": 0,
  "metadata": {
    "colab": {
      "provenance": [],
      "collapsed_sections": []
    },
    "kernelspec": {
      "name": "python3",
      "display_name": "Python 3"
    },
    "language_info": {
      "name": "python"
    },
    "accelerator": "GPU"
  },
  "cells": [
    {
      "cell_type": "code",
      "execution_count": null,
      "metadata": {
        "id": "HCRUvC3hoOx3"
      },
      "outputs": [],
      "source": [
        "import numpy as np\n",
        "import pandas as pd\n",
        "import matplotlib.pyplot as plt"
      ]
    },
    {
      "cell_type": "code",
      "source": [
        "df=pd.read_csv('/content/International_Report_Departures.csv')\n",
        "df"
      ],
      "metadata": {
        "id": "-iadEyIipNaa"
      },
      "execution_count": null,
      "outputs": []
    },
    {
      "cell_type": "code",
      "source": [
        "#For first 500 datas\n",
        "df.head(501)"
      ],
      "metadata": {
        "id": "5hdt2y9FrH4n"
      },
      "execution_count": null,
      "outputs": []
    },
    {
      "cell_type": "code",
      "source": [
        "#Histogram\n",
        "df.hist()"
      ],
      "metadata": {
        "id": "mwe6e_6qrMaR"
      },
      "execution_count": null,
      "outputs": []
    },
    {
      "cell_type": "code",
      "source": [
        "#Ploting\n",
        "x=df.Charter\n",
        "y=df.airlineid\n",
        "plt.plot(x)"
      ],
      "metadata": {
        "id": "dgc5rs74ra-U"
      },
      "execution_count": null,
      "outputs": []
    },
    {
      "cell_type": "code",
      "source": [
        "# Bar graph\n",
        "#plt.bar(x,y)"
      ],
      "metadata": {
        "id": "b26hpnLAssm8"
      },
      "execution_count": null,
      "outputs": []
    },
    {
      "cell_type": "code",
      "source": [
        "#pie chart\n",
        "plt.pie(x)"
      ],
      "metadata": {
        "id": "_VIyUV-etqkn"
      },
      "execution_count": null,
      "outputs": []
    },
    {
      "cell_type": "code",
      "source": [
        "#Scatter plot\n",
        "plt.scatter(x,y)"
      ],
      "metadata": {
        "id": "Fii5d20svU95"
      },
      "execution_count": null,
      "outputs": []
    },
    {
      "cell_type": "code",
      "source": [
        "#lolipop\n",
        "plt.stem(x,y)"
      ],
      "metadata": {
        "colab": {
          "base_uri": "https://localhost:8080/"
        },
        "id": "6NFkTMZPvePO",
        "outputId": "c3d052ef-b455-44d4-af63-76b3dbb593e9"
      },
      "execution_count": null,
      "outputs": [
        {
          "output_type": "stream",
          "name": "stderr",
          "text": [
            "/usr/local/lib/python3.7/dist-packages/ipykernel_launcher.py:2: UserWarning: In Matplotlib 3.3 individual lines on a stem plot will be added as a LineCollection instead of individual lines. This significantly improves the performance of a stem plot. To remove this warning and switch to the new behaviour, set the \"use_line_collection\" keyword argument to True.\n",
            "  \n"
          ]
        }
      ]
    },
    {
      "cell_type": "code",
      "source": [
        "plt.polar(x,y)"
      ],
      "metadata": {
        "id": "J72GpImYvtw6"
      },
      "execution_count": null,
      "outputs": []
    },
    {
      "cell_type": "code",
      "source": [
        "plt.fill_between(x,y)"
      ],
      "metadata": {
        "id": "5z7DX4jEvv8w"
      },
      "execution_count": null,
      "outputs": []
    }
  ]
}